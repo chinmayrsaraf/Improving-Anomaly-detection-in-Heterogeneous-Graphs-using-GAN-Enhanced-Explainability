{
  "nbformat": 4,
  "nbformat_minor": 0,
  "metadata": {
    "colab": {
      "provenance": [],
      "gpuType": "T4"
    },
    "kernelspec": {
      "name": "python3",
      "display_name": "Python 3"
    },
    "language_info": {
      "name": "python"
    },
    "accelerator": "GPU"
  },
  "cells": [
    {
      "cell_type": "code",
      "execution_count": null,
      "metadata": {
        "colab": {
          "base_uri": "https://localhost:8080/"
        },
        "id": "jWBS6nasrWG9",
        "outputId": "c5d31379-70f9-4679-a1ee-e2e5332fd623"
      },
      "outputs": [
        {
          "output_type": "stream",
          "name": "stdout",
          "text": [
            "11.8\n",
            "  Installing build dependencies ... \u001b[?25l\u001b[?25hdone\n",
            "  Getting requirements to build wheel ... \u001b[?25l\u001b[?25hdone\n",
            "  Preparing metadata (pyproject.toml) ... \u001b[?25l\u001b[?25hdone\n",
            "  Building wheel for torch_geometric (pyproject.toml) ... \u001b[?25l\u001b[?25hdone\n"
          ]
        }
      ],
      "source": [
        "!python -c \"import torch; print(torch.version.cuda)\"\n",
        "\n",
        "# Install Pytorch Geometric\n",
        "# !pip install -q torch-scatter==latest+cu101 -f https://pytorch-geometric.com/whl/torch-1.9.0.html\n",
        "# !pip install -q torch-sparse==latest+cu101 -f https://pytorch-geometric.com/whl/torch-1.9.0.html\n",
        "!pip install -q git+https://github.com/rusty1s/pytorch_geometric.git"
      ]
    },
    {
      "cell_type": "code",
      "source": [
        "from torch_geometric.datasets import EllipticBitcoinDataset\n",
        "from torch_geometric.transforms import NormalizeFeatures"
      ],
      "metadata": {
        "id": "qhqZ6JdowtJh"
      },
      "execution_count": null,
      "outputs": []
    },
    {
      "cell_type": "code",
      "source": [
        "dataset = EllipticBitcoinDataset(root='data/EllipticBitcoinDataset', transform=NormalizeFeatures())\n",
        "print(dataset)"
      ],
      "metadata": {
        "colab": {
          "base_uri": "https://localhost:8080/"
        },
        "id": "UfBtrDPvzzXH",
        "outputId": "2fcda645-7cff-436b-94f7-5ef792f25404"
      },
      "execution_count": null,
      "outputs": [
        {
          "output_type": "stream",
          "name": "stderr",
          "text": [
            "Downloading https://data.pyg.org/datasets/elliptic/elliptic_txs_features.csv.zip\n",
            "Extracting data/EllipticBitcoinDataset/raw/elliptic_txs_features.csv.zip\n",
            "Downloading https://data.pyg.org/datasets/elliptic/elliptic_txs_edgelist.csv.zip\n",
            "Extracting data/EllipticBitcoinDataset/raw/elliptic_txs_edgelist.csv.zip\n",
            "Downloading https://data.pyg.org/datasets/elliptic/elliptic_txs_classes.csv.zip\n",
            "Extracting data/EllipticBitcoinDataset/raw/elliptic_txs_classes.csv.zip\n",
            "Processing...\n"
          ]
        },
        {
          "output_type": "stream",
          "name": "stdout",
          "text": [
            "EllipticBitcoinDataset()\n"
          ]
        },
        {
          "output_type": "stream",
          "name": "stderr",
          "text": [
            "Done!\n"
          ]
        }
      ]
    },
    {
      "cell_type": "code",
      "source": [
        "dataset[0].edge_index"
      ],
      "metadata": {
        "colab": {
          "base_uri": "https://localhost:8080/"
        },
        "id": "uxQsCAfGC0bl",
        "outputId": "467fd2a9-f28f-412a-f188-3ca1c8e4abf4"
      },
      "execution_count": null,
      "outputs": [
        {
          "output_type": "execute_result",
          "data": {
            "text/plain": [
              "tensor([[     0,      2,      4,  ..., 201921, 201480, 201954],\n",
              "        [     1,      3,      5,  ..., 202042, 201368, 201756]])"
            ]
          },
          "metadata": {},
          "execution_count": 7
        }
      ]
    },
    {
      "cell_type": "code",
      "source": [
        "print(f'Number of graphs: {len(dataset)}')\n",
        "print(f'Number of features: {dataset.num_features}')\n",
        "print(f'Number of classes: {dataset.num_classes}')\n"
      ],
      "metadata": {
        "colab": {
          "base_uri": "https://localhost:8080/"
        },
        "id": "mw5w5luI0bWE",
        "outputId": "9b059c4a-b4e3-48ad-bc41-a0508cd849eb"
      },
      "execution_count": null,
      "outputs": [
        {
          "output_type": "stream",
          "name": "stdout",
          "text": [
            "Number of graphs: 1\n",
            "Number of features: 165\n",
            "Number of classes: 2\n"
          ]
        }
      ]
    },
    {
      "cell_type": "code",
      "source": [
        "import pandas as pd\n",
        "df_features = pd.read_csv('data/EllipticBitcoinDataset/raw/elliptic_txs_features.csv')\n",
        "df_edges = pd.read_csv(\"data/EllipticBitcoinDataset/raw/elliptic_txs_edgelist.csv\")\n",
        "df_classes =  pd.read_csv(\"data/EllipticBitcoinDataset/raw/elliptic_txs_classes.csv\")\n"
      ],
      "metadata": {
        "id": "nFGgvbVEKFwC"
      },
      "execution_count": null,
      "outputs": []
    },
    {
      "cell_type": "code",
      "source": [
        "import matplotlib.pyplot as plt\n",
        "group_class = df_classes.groupby('class').count()\n",
        "plt.title(\"# of nodes per class\")\n",
        "plt.barh([ 'Illicit','Licit', 'Unknown'], group_class['txId'].values, color=['g', 'orange', 'r'] )\n"
      ],
      "metadata": {
        "colab": {
          "base_uri": "https://localhost:8080/",
          "height": 470
        },
        "id": "Cp6pUP-tKsOT",
        "outputId": "0e8693ef-a1b8-45d2-a3dd-1005f002dc2f"
      },
      "execution_count": null,
      "outputs": [
        {
          "output_type": "execute_result",
          "data": {
            "text/plain": [
              "<BarContainer object of 3 artists>"
            ]
          },
          "metadata": {},
          "execution_count": 10
        },
        {
          "output_type": "display_data",
          "data": {
            "text/plain": [
              "<Figure size 640x480 with 1 Axes>"
            ],
            "image/png": "[encoded data removed]"
          },
          "metadata": {}
        }
      ]
    },
    {
      "cell_type": "code",
      "source": [
        "data = dataset[0]\n",
        "\n",
        "print(data)\n",
        "print(f'Number of nodes: {data.num_nodes}')\n",
        "print(f'Number of edges: {data.num_edges}')\n",
        "print(f'Number of training nodes: {data.train_mask.sum()}')\n",
        "print(f'Training node label rate: {int(data.train_mask.sum()) / data.num_nodes:.2f}')\n",
        "print(f'Is undirected: {data.is_undirected()}')"
      ],
      "metadata": {
        "colab": {
          "base_uri": "https://localhost:8080/"
        },
        "id": "nELlAkPW0jjl",
        "outputId": "4e8d29be-2028-4126-cdef-c44588fd07e4"
      },
      "execution_count": null,
      "outputs": [
        {
          "output_type": "stream",
          "name": "stdout",
          "text": [
            "Data(x=[203769, 165], edge_index=[2, 234355], y=[203769], train_mask=[203769], test_mask=[203769])\n",
            "Number of nodes: 203769\n",
            "Number of edges: 234355\n",
            "Number of training nodes: 29894\n",
            "Training node label rate: 0.15\n",
            "Is undirected: False\n"
          ]
        }
      ]
    },
    {
      "cell_type": "code",
      "source": [
        "print(data.y)\n",
        "print(dataset[0].x.shape)\n",
        "\n",
        "dataset.num_classes\n"
      ],
      "metadata": {
        "colab": {
          "base_uri": "https://localhost:8080/"
        },
        "id": "4u4sP-TWD18V",
        "outputId": "5cd84a51-7dfb-4b6f-ca1a-1b15306a93f6"
      },
      "execution_count": null,
      "outputs": [
        {
          "output_type": "stream",
          "name": "stdout",
          "text": [
            "tensor([2, 2, 2,  ..., 1, 2, 2])\n",
            "torch.Size([203769, 165])\n"
          ]
        },
        {
          "output_type": "execute_result",
          "data": {
            "text/plain": [
              "2"
            ]
          },
          "metadata": {},
          "execution_count": 12
        }
      ]
    },
    {
      "cell_type": "markdown",
      "source": [
        "GNN using GCN"
      ],
      "metadata": {
        "id": "Mq__JetdE9JX"
      }
    },
    {
      "cell_type": "code",
      "source": [
        "import torch\n",
        "from torch.nn import Linear\n",
        "import torch.nn.functional as F\n",
        "from torch_geometric.nn import GCNConv #GATConv\n",
        "\n",
        "class GCN(torch.nn.Module):\n",
        "    def __init__(self, hidden_channels):\n",
        "        super(GCN, self).__init__()\n",
        "        torch.manual_seed(42)\n",
        "\n",
        "        self.conv1 = GCNConv(dataset.num_features, hidden_channels)\n",
        "        self.conv2 = GCNConv(hidden_channels, hidden_channels)\n",
        "        self.out = Linear(hidden_channels, dataset.num_classes)\n",
        "\n",
        "    def forward(self, x, edge_index):\n",
        "        x = self.conv1(x, edge_index)\n",
        "        x = x.relu()\n",
        "        x = F.dropout(x, p=0.5, training=self.training)\n",
        "\n",
        "        x = self.conv2(x, edge_index)\n",
        "        x = x.relu()\n",
        "        x = F.dropout(x, p=0.5, training=self.training)\n",
        "\n",
        "        x = F.softmax(self.out(x), dim=1)\n",
        "        return x\n",
        "\n",
        "model = GCN(hidden_channels=128)\n",
        "print(model)"
      ],
      "metadata": {
        "id": "N2CCzPMp087l"
      },
      "execution_count": null,
      "outputs": []
    },
    {
      "cell_type": "markdown",
      "source": [
        "**Training**"
      ],
      "metadata": {
        "id": "XThLI2BLFNnV"
      }
    },
    {
      "cell_type": "code",
      "source": [
        "# model = GCN(hidden_channels=16)\n",
        "\n",
        "#GPU\n",
        "device = torch.device(\"cuda:0\" if torch.cuda.is_available() else \"cpu\")\n",
        "model = model.to(device)\n",
        "data = data.to(device)\n",
        "\n",
        "learning_rate = 0.15\n",
        "decay = 5e-4\n",
        "optimizer = torch.optim.Adam(model.parameters(),\n",
        "                             lr=learning_rate,\n",
        "                             weight_decay=decay)\n",
        "\n",
        "criterion = torch.nn.CrossEntropyLoss()\n",
        "\n",
        "def train():\n",
        "      model.train()\n",
        "      optimizer.zero_grad()\n",
        "      out = model(data.x, data.edge_index)\n",
        "      loss = criterion(out[data.train_mask], data.y[data.train_mask])\n",
        "      loss.backward()\n",
        "      optimizer.step()\n",
        "      return loss\n",
        "\n",
        "def test():\n",
        "      model.eval()\n",
        "      out = model(data.x, data.edge_index)\n",
        "      pred = out.argmax(dim=1)\n",
        "      test_correct = pred[data.test_mask] == data.y[data.test_mask]\n",
        "      test_acc = int(test_correct.sum()) / int(data.test_mask.sum())\n",
        "      return test_acc\n",
        "\n",
        "losses = []\n",
        "for epoch in range(0, 100):\n",
        "    loss = train()\n",
        "    losses.append(loss)\n",
        "    if epoch % 10 == 0:\n",
        "      print(f'Epoch: {epoch}, Loss: {loss:.4f}')"
      ],
      "metadata": {
        "colab": {
          "base_uri": "https://localhost:8080/"
        },
        "id": "Ouy7vM601TYC",
        "outputId": "2929d108-4b5d-44cf-af5c-6b2dc912f2ae"
      },
      "execution_count": null,
      "outputs": [
        {
          "output_type": "stream",
          "name": "stdout",
          "text": [
            "Epoch: 0, Loss: 0.6879\n",
            "Epoch: 10, Loss: 0.4293\n",
            "Epoch: 20, Loss: 0.4292\n",
            "Epoch: 30, Loss: 0.4292\n",
            "Epoch: 40, Loss: 0.4293\n",
            "Epoch: 50, Loss: 0.4293\n",
            "Epoch: 60, Loss: 0.4293\n",
            "Epoch: 70, Loss: 0.4293\n",
            "Epoch: 80, Loss: 0.4293\n",
            "Epoch: 90, Loss: 0.4294\n"
          ]
        }
      ]
    },
    {
      "cell_type": "code",
      "source": [
        "test_acc = test()\n",
        "print(f'Test Accuracy: {test_acc:.4f}')"
      ],
      "metadata": {
        "colab": {
          "base_uri": "https://localhost:8080/"
        },
        "id": "nUe3YaWk20Vk",
        "outputId": "fb91187f-1581-4282-8301-dfadde5d880c"
      },
      "execution_count": null,
      "outputs": [
        {
          "output_type": "stream",
          "name": "stdout",
          "text": [
            "Test Accuracy: 0.9350\n"
          ]
        }
      ]
    },
    {
      "cell_type": "markdown",
      "source": [
        "**GNN using GAT**"
      ],
      "metadata": {
        "id": "PUerg9L-FVAl"
      }
    },
    {
      "cell_type": "code",
      "source": [
        "data2=dataset[0]"
      ],
      "metadata": {
        "id": "osAjOcMMlK7L"
      },
      "execution_count": null,
      "outputs": []
    },
    {
      "cell_type": "code",
      "source": [
        "import torch\n",
        "import torch.nn as nn\n",
        "import torch.nn.functional as F\n",
        "from torch_geometric.nn import GATConv\n",
        "\n",
        "# ... (previous code for dataset loading and model definition)\n",
        "\n",
        "class GAT(torch.nn.Module):\n",
        "    def __init__(self, hidden_channels, num_heads):\n",
        "        super(GAT, self).__init__()\n",
        "        torch.manual_seed(42)\n",
        "\n",
        "        self.conv1 = GATConv(dataset.num_features, hidden_channels, heads=num_heads)\n",
        "        self.conv2 = GATConv(hidden_channels * num_heads, hidden_channels, heads=num_heads)\n",
        "        self.out = Linear(hidden_channels * num_heads, dataset.num_classes)\n",
        "\n",
        "    def forward(self, x, edge_index):\n",
        "        x = self.conv1(x, edge_index)\n",
        "        x = F.elu(x)\n",
        "        x = F.dropout(x, p=0.5, training=self.training)\n",
        "\n",
        "        x = self.conv2(x, edge_index)\n",
        "        x = F.elu(x)\n",
        "        x = F.dropout(x, p=0.5, training=self.training)\n",
        "\n",
        "        x = self.out(x)\n",
        "        return x\n",
        "\n",
        "num_heads = 4  #attention heads\n",
        "model2 = GAT(hidden_channels=128, num_heads=num_heads)\n",
        "print(model)\n",
        "\n",
        "\n",
        "\n",
        "device = torch.device(\"cuda:0\" if torch.cuda.is_available() else \"cpu\")\n",
        "model2 = model2.to(device)\n",
        "data2 = data2.to(device)\n",
        "\n",
        "learning_rate = 0.01\n",
        "decay = 5e-4\n",
        "optimizer = torch.optim.Adam(model2.parameters(),\n",
        "                             lr=learning_rate,\n",
        "                             weight_decay=decay)\n",
        "\n",
        "criterion = torch.nn.CrossEntropyLoss()\n",
        "\n",
        "def train():\n",
        "      model2.train()\n",
        "      optimizer.zero_grad()\n",
        "      out = model2(data2.x, data2.edge_index)\n",
        "      loss = criterion(out[data2.train_mask], data2.y[data2.train_mask])\n",
        "      loss.backward()\n",
        "      optimizer.step()\n",
        "      return loss\n",
        "\n",
        "def test2():\n",
        "      model2.eval()\n",
        "      out = model2(data2.x, data2.edge_index)\n",
        "      pred = out.argmax(dim=1)\n",
        "      test_correct = pred[data2.test_mask] == data2.y[data2.test_mask]\n",
        "      test_acc = int(test_correct.sum()) / int(data2.test_mask.sum())\n",
        "      return test_acc\n",
        "\n",
        "losses = []\n",
        "for epoch in range(0, 100):\n",
        "    loss = train()\n",
        "    losses.append(loss)\n",
        "    if epoch % 10 == 0:\n",
        "        print(f'Epoch: {epoch:03d}, Loss: {loss:.4f}')\n"
      ],
      "metadata": {
        "id": "W9qEaR5sVKv6"
      },
      "execution_count": null,
      "outputs": []
    },
    {
      "cell_type": "code",
      "source": [
        "pip install torch-geometric"
      ],
      "metadata": {
        "colab": {
          "base_uri": "https://localhost:8080/"
        },
        "id": "-arsKvRaRqu2",
        "outputId": "ee88f683-4a88-4a16-c07a-c56c3c3925b3"
      },
      "execution_count": null,
      "outputs": [
        {
          "output_type": "stream",
          "name": "stdout",
          "text": [
            "Collecting torch-geometric\n",
            "  Downloading torch_geometric-2.4.0-py3-none-any.whl (1.0 MB)\n",
            "\u001b[2K     \u001b[90m━━━━━━━━━━━━━━━━━━━━━━━━━━━━━━━━━━━━━━━━\u001b[0m \u001b[32m1.0/1.0 MB\u001b[0m \u001b[31m11.0 MB/s\u001b[0m eta \u001b[36m0:00:00\u001b[0m\n",
            "\u001b[?25hRequirement already satisfied: tqdm in /usr/local/lib/python3.10/dist-packages (from torch-geometric) (4.66.1)\n",
            "Requirement already satisfied: numpy in /usr/local/lib/python3.10/dist-packages (from torch-geometric) (1.23.5)\n",
            "Requirement already satisfied: scipy in /usr/local/lib/python3.10/dist-packages (from torch-geometric) (1.11.3)\n",
            "Requirement already satisfied: jinja2 in /usr/local/lib/python3.10/dist-packages (from torch-geometric) (3.1.2)\n",
            "Requirement already satisfied: requests in /usr/local/lib/python3.10/dist-packages (from torch-geometric) (2.31.0)\n",
            "Requirement already satisfied: pyparsing in /usr/local/lib/python3.10/dist-packages (from torch-geometric) (3.1.1)\n",
            "Requirement already satisfied: scikit-learn in /usr/local/lib/python3.10/dist-packages (from torch-geometric) (1.2.2)\n",
            "Requirement already satisfied: psutil>=5.8.0 in /usr/local/lib/python3.10/dist-packages (from torch-geometric) (5.9.5)\n",
            "Requirement already satisfied: MarkupSafe>=2.0 in /usr/local/lib/python3.10/dist-packages (from jinja2->torch-geometric) (2.1.3)\n",
            "Requirement already satisfied: charset-normalizer<4,>=2 in /usr/local/lib/python3.10/dist-packages (from requests->torch-geometric) (3.3.2)\n",
            "Requirement already satisfied: idna<4,>=2.5 in /usr/local/lib/python3.10/dist-packages (from requests->torch-geometric) (3.4)\n",
            "Requirement already satisfied: urllib3<3,>=1.21.1 in /usr/local/lib/python3.10/dist-packages (from requests->torch-geometric) (2.0.7)\n",
            "Requirement already satisfied: certifi>=2017.4.17 in /usr/local/lib/python3.10/dist-packages (from requests->torch-geometric) (2023.7.22)\n",
            "Requirement already satisfied: joblib>=1.1.1 in /usr/local/lib/python3.10/dist-packages (from scikit-learn->torch-geometric) (1.3.2)\n",
            "Requirement already satisfied: threadpoolctl>=2.0.0 in /usr/local/lib/python3.10/dist-packages (from scikit-learn->torch-geometric) (3.2.0)\n",
            "Installing collected packages: torch-geometric\n",
            "Successfully installed torch-geometric-2.4.0\n"
          ]
        }
      ]
    },
    {
      "cell_type": "code",
      "source": [
        "from google.colab import drive\n",
        "drive.mount('/content/drive')\n",
        "\n",
        "path = '/content/drive/MyDrive/IMDB'\n",
        "dataset = IMDB(path)\n",
        "data = dataset[0]\n",
        "\n",
        "data2 = sio.loadmat(f'/content/drive/MyDrive/IMDB/IMDB.mat')\n"
      ],
      "metadata": {
        "id": "nZyR0yOPNLsx",
        "colab": {
          "base_uri": "https://localhost:8080/"
        },
        "outputId": "54331bca-41cd-4894-c5a2-f272f42402b0"
      },
      "execution_count": null,
      "outputs": [
        {
          "output_type": "stream",
          "name": "stdout",
          "text": [
            "Drive already mounted at /content/drive; to attempt to forcibly remount, call drive.mount(\"/content/drive\", force_remount=True).\n"
          ]
        }
      ]
    },
    {
      "cell_type": "code",
      "source": [
        "import copy\n",
        "import os.path as osp\n",
        "import random\n",
        "\n",
        "import numpy as np\n",
        "import scipy.io as sio\n",
        "import torch\n",
        "import torch.nn.functional as F\n",
        "from sklearn.metrics import roc_auc_score\n",
        "from torch_geometric.data import HeteroData\n",
        "from torch_geometric.datasets import IMDB\n",
        "from torch_geometric.nn import Linear, HGTConv\n",
        "\n",
        "path = '/content/drive/MyDrive/IMDB'\n",
        "dataset = IMDB(path)\n",
        "data = dataset[0]\n",
        "\n",
        "data2 = sio.loadmat(f'/content/drive/MyDrive/IMDB/IMDB.mat')\n",
        "node_types = ['movie', 'actor']\n",
        "data1 = HeteroData()\n",
        "data1['movie'].x = torch.FloatTensor(data2['X1'])\n",
        "data1['actor'].x = torch.FloatTensor(data2['X2'])\n",
        "for i in range(data2['edge_index'].shape[1]):\n",
        "    data2['edge_index'][1, i] -= data['movie']['x'].shape[0]\n",
        "data1[('movie', 'to', 'actor')].edge_index = torch.LongTensor(data2['edge_index'])\n",
        "arr = np.copy(data2['edge_index'])\n",
        "arr[[0, 1], :] = arr[[1, 0], :]\n",
        "data1[('actor', 'to', 'movie')].edge_index = torch.LongTensor(arr)\n",
        "gnd = data2['label'][0, :]\n",
        "gnd1 = gnd[0:data['movie']['x'].shape[0]]\n",
        "gnd2 = gnd[data['movie']['x'].shape[0]:]\n",
        "a = np.sum(gnd)\n",
        "X = dict()\n",
        "for node_type in node_types:\n",
        "    X[node_type] = data1[node_type].x\n",
        "T = dict()\n",
        "T['movie'] = torch.zeros((data['movie']['x'].shape[0], 2))\n",
        "T['actor'] = torch.zeros((data['actor']['x'].shape[0], 2))\n",
        "for i in range(data['movie']['x'].shape[0]):\n",
        "    T['movie'][i, 0] = 1\n",
        "for i in range(data['actor']['x'].shape[0]):\n",
        "    T['actor'][i, 1] = 1\n",
        "\n",
        "A = dict()\n",
        "flag_movie = []\n",
        "for i in range(data.x_dict['movie'].shape[1]):\n",
        "    flag_movie.append(random.randint(1, 2))\n",
        "flag_movie = np.array(flag_movie)\n",
        "flag_actor = []\n",
        "for i in range(data.x_dict['actor'].shape[1]):\n",
        "    flag_actor.append(random.randint(1, 3))\n",
        "flag_actor = np.array(flag_actor)\n",
        "n = 0\n",
        "m = 0\n",
        "X_views = dict()\n",
        "X_views['movie'] = []\n",
        "X_views['actor'] = []\n",
        "index_movie = []\n",
        "index_actor = []\n",
        "for i in range(2):\n",
        "    while n < len(flag_movie):\n",
        "        if flag_movie[n] == i + 1:\n",
        "            index_movie.append(n)\n",
        "        n += 1\n",
        "    X_views['movie'].append(X['movie'][:, index_movie])\n",
        "    index_movie = []\n",
        "    n = 0\n",
        "for i in range(3):\n",
        "    while m < len(flag_actor):\n",
        "        if flag_actor[m] == i + 1:\n",
        "            index_actor.append(m)\n",
        "        m += 1\n",
        "    X_views['actor'].append(X['actor'][:, index_actor])\n",
        "    index_actor = []\n",
        "    m = 0\n",
        "y_dict1 = dict.copy(data.x_dict)\n",
        "y_dict1['movie'] = X_views['movie'][0]\n",
        "y_dict1['actor'] = X_views['actor'][0]\n",
        "y_dict2 = dict.copy(data.x_dict)\n",
        "y_dict2['movie'] = X_views['movie'][1]\n",
        "y_dict2['actor'] = X_views['actor'][0]\n",
        "y_dict3 = dict.copy(data.x_dict)\n",
        "y_dict3['movie'] = X_views['movie'][0]\n",
        "y_dict3['actor'] = X_views['actor'][1]\n",
        "y_dict4 = dict.copy(data.x_dict)\n",
        "y_dict4['movie'] = X_views['movie'][1]\n",
        "y_dict4['actor'] = X_views['actor'][1]\n",
        "y_dict5 = dict.copy(data.x_dict)\n",
        "y_dict5['movie'] = X_views['movie'][0]\n",
        "y_dict5['actor'] = X_views['actor'][2]\n",
        "y_dict6 = dict.copy(data.x_dict)\n",
        "y_dict6['movie'] = X_views['movie'][1]\n",
        "y_dict6['actor'] = X_views['actor'][2]\n",
        "list1 = [y_dict1, y_dict2, y_dict3, y_dict4, y_dict5, y_dict6]\n",
        "for edge_type in data.edge_index_dict.keys():\n",
        "    A[edge_type] = torch.sparse.FloatTensor(data.edge_index_dict[edge_type],\n",
        "                                            torch.LongTensor(np.ones(data.edge_index_dict[edge_type].shape[1])),\n",
        "                                            torch.Size([data[edge_type[0]]['x'].shape[0],\n",
        "                                                        data[edge_type[2]]['x'].shape[0]])).to_dense()\n",
        "\n",
        "\n",
        "class HGT(torch.nn.Module):\n",
        "    def __init__(self, hidden_channels, out_channels, num_heads, num_layers, num_view):\n",
        "        super().__init__()\n",
        "        self.weight = torch.nn.Parameter(torch.randn(num_view), requires_grad=True)\n",
        "        self.weight_node_type = torch.nn.Parameter(torch.randn(2), requires_grad=True)\n",
        "        self.lin_dict = torch.nn.ModuleDict()\n",
        "        for node_type in data.node_types:\n",
        "            self.lin_dict[node_type] = torch.nn.ModuleList()\n",
        "            for i in range(6):\n",
        "                if i == 0:\n",
        "                    self.lin_dict[node_type].append(Linear(y_dict1[node_type].shape[1], hidden_channels))\n",
        "                if i == 1:\n",
        "                    self.lin_dict[node_type].append(Linear(y_dict2[node_type].shape[1], hidden_channels))\n",
        "                if i == 2:\n",
        "                    self.lin_dict[node_type].append(Linear(y_dict3[node_type].shape[1], hidden_channels))\n",
        "                if i == 3:\n",
        "                    self.lin_dict[node_type].append(Linear(y_dict4[node_type].shape[1], hidden_channels))\n",
        "                if i == 4:\n",
        "                    self.lin_dict[node_type].append(Linear(y_dict5[node_type].shape[1], hidden_channels))\n",
        "                if i == 5:\n",
        "                    self.lin_dict[node_type].append(Linear(y_dict6[node_type].shape[1], hidden_channels))\n",
        "        self.convs = torch.nn.ModuleList()\n",
        "        for _ in range(num_layers):\n",
        "            conv = HGTConv(hidden_channels, hidden_channels, data.metadata(), num_heads, group='sum')\n",
        "            self.convs.append(conv)\n",
        "\n",
        "        self.out_dict = torch.nn.ModuleDict()\n",
        "        for node_type in data.node_types:\n",
        "            self.out_dict[node_type] = Linear(hidden_channels, out_channels)\n",
        "        self.lin = torch.nn.ModuleDict()\n",
        "        for node_type in data.node_types:\n",
        "            self.lin[node_type] = Linear(out_channels, data.x_dict[node_type].shape[1])\n",
        "        self.Tlin = torch.nn.ModuleDict()\n",
        "        for node_type in data.node_types:\n",
        "            self.Tlin[node_type] = Linear(out_channels, 2)\n",
        "\n",
        "    def forward(self, x_dict, edge_index_dict):\n",
        "        list3 = dict()\n",
        "        for node_type, _ in x_dict[0].items():\n",
        "            list3[node_type] = []\n",
        "        for i in range(6):\n",
        "            for node_type, x in x_dict[i].items():\n",
        "                x_dict[i][node_type] = self.lin_dict[node_type][i](x).relu_()\n",
        "\n",
        "            for conv in self.convs:\n",
        "                x_dict[i] = conv(x_dict[i], edge_index_dict)\n",
        "\n",
        "            for node_type, _ in x_dict[0].items():\n",
        "                list3[node_type].append(self.out_dict[node_type](x_dict[i][node_type]))\n",
        "\n",
        "        weight_norm = F.softmax(self.weight, dim=0)\n",
        "        weight_type = F.softmax(self.weight_node_type, dim=0)\n",
        "        Z_dict = dict()\n",
        "        A_head = dict()\n",
        "        X_head = dict()\n",
        "        t_head = dict()\n",
        "        T_head = dict()\n",
        "        for node_type, _ in x_dict[0].items():\n",
        "            Z_dict[node_type] = weight_norm[0] * list3[node_type][0] + weight_norm[1] * list3[node_type][1] + \\\n",
        "                                weight_norm[2] * list3[node_type][2] + weight_norm[3] * list3[node_type][3] + \\\n",
        "                                weight_norm[4] * list3[node_type][4] + weight_norm[5] * list3[node_type][5]\n",
        "            X_head[node_type] = self.lin[node_type](Z_dict[node_type])\n",
        "            t_head[node_type] = self.Tlin[node_type](Z_dict[node_type])\n",
        "            T_head[node_type] = torch.zeros((t_head[node_type].shape[0], t_head[node_type].shape[1]))\n",
        "            for i in range(T_head[node_type].shape[0]):\n",
        "                T_head[node_type][i, 0] = weight_type[0] * t_head[node_type][i, 0]\n",
        "                T_head[node_type][i, 1] = weight_type[1] * t_head[node_type][i, 1]\n",
        "            T_head[node_type] = F.softmax(T_head[node_type], dim=0)\n",
        "        for edge_type in edge_index_dict.keys():\n",
        "            A_head[edge_type] = torch.sigmoid(torch.mm(Z_dict[edge_type[0]], Z_dict[edge_type[2]].T))\n",
        "\n",
        "        return A_head, X_head, T_head, weight_norm, weight_type\n",
        "model = HGT(hidden_channels=64, out_channels=16, num_heads=2, num_layers=2, num_view=6)\n",
        "device = torch.device('cpu')\n",
        "data, model = data.to(device), model.to(device)\n",
        "optimizer = torch.optim.Adam(model.parameters(), lr=0.005, weight_decay=0.00001)\n",
        "\n",
        "\n",
        "def multiview(x, num1, num2):\n",
        "    X_hat_views = dict()\n",
        "    X_hat_views['movie'] = []\n",
        "    X_hat_views['actor'] = []\n",
        "    index_movie = []\n",
        "    index_actor = []\n",
        "    n = 0\n",
        "    m = 0\n",
        "    for i in range(num1):\n",
        "        while n < len(flag_movie):\n",
        "            if flag_movie[n] == i + 1:\n",
        "                index_movie.append(n)\n",
        "            n += 1\n",
        "        X_hat_views['movie'].append(x['movie'][:, index_movie])\n",
        "        index_movie = []\n",
        "        n = 0\n",
        "    for i in range(num2):\n",
        "        while m < len(flag_actor):\n",
        "            if flag_actor[m] == i + 1:\n",
        "                index_actor.append(m)\n",
        "            m += 1\n",
        "        X_hat_views['actor'].append(x['actor'][:, index_actor])\n",
        "        index_actor = []\n",
        "        m = 0\n",
        "    return X_hat_views\n",
        "\n",
        "\n",
        "def train():\n",
        "    model.train()\n",
        "    optimizer.zero_grad()\n",
        "    input_list = copy.deepcopy(list1)\n",
        "    A_hat, X_hat, T_hat, wX, wT = model(input_list, data.edge_index_dict)\n",
        "    loss = 0\n",
        "    loss += torch.norm(A_hat[('movie', 'to', 'actor')] - A[('movie', 'to', 'actor')])\n",
        "    loss += torch.norm(A_hat[('actor', 'to', 'movie')] - A[('actor', 'to', 'movie')])\n",
        "    for node_type in node_types:\n",
        "        loss += pow(torch.norm(T_hat[node_type] - T[node_type]), 2)\n",
        "    loss += torch.norm(X_hat['movie'] - X['movie'])\n",
        "    loss += torch.norm(X_hat['actor'] - X['actor'])\n",
        "    loss=loss/float(gnd.shape[0])\n",
        "    loss.backward()\n",
        "    optimizer.step()\n",
        "    return float(loss)\n",
        "\n",
        "\n",
        "@torch.no_grad()\n",
        "def test():\n",
        "    model.eval()\n",
        "    input_list = copy.deepcopy(list1)\n",
        "    out = model(input_list, data.edge_index_dict)\n",
        "    ano_score = []\n",
        "    for i in range(data['movie']['x'].shape[0]):\n",
        "        ano_score.append(0.47 * torch.norm(out[0][('movie', 'to', 'actor')][i] - A[('movie', 'to', 'actor')][i])\n",
        "        + 0.47 * torch.norm(out[1]['movie'][i] - X['movie'][i])+0.06 * torch.norm(out[2]['movie'][i] - torch.FloatTensor(np.array(T['movie']))))\n",
        "\n",
        "    for i in range(data['actor']['x'].shape[0]):\n",
        "        ano_score.append(0.47 * torch.norm(out[0][('actor', 'to', 'movie')][i] - A[('actor', 'to', 'movie')][i])\n",
        "        + 0.47 * torch.norm(out[1]['actor'][i] - X['actor'][i])+0.06 * torch.norm(out[2]['actor'][i] - torch.FloatTensor(np.array(T['actor']))))\n",
        "\n",
        "    auc = roc_auc_score(gnd, np.array(ano_score) / max(ano_score))\n",
        "\n",
        "    return auc\n",
        "\n",
        "best_auc=0\n",
        "for epoch in range(1, 101):\n",
        "    loss = train()\n",
        "    auc = test()\n",
        "\n",
        "    if auc>best_auc:\n",
        "        best_auc=auc\n",
        "    print(\n",
        "    f'Epoch: {epoch:03d}, Loss: {loss:.4f}, AUC:{auc:.4f}')\n",
        "print(best_auc)"
      ],
      "metadata": {
        "id": "8xCCcqA7REzh"
      },
      "execution_count": null,
      "outputs": []
    },
    {
      "cell_type": "code",
      "source": [
        "import matplotlib.pyplot as plt\n",
        "\n",
        "# x axis values\n",
        "x = [1,2,3,4,5,6,7,8,9,10,11,12,13,14,15,16,17,18,19,20,21,22,23,24,25,26,27,28,29,30,31,32,33,34,35,36,37,38,39,40,41,42,43,44,45,46,47,48,49,50,51,52,53,54,55,56,57,58,59,60]\n",
        "# corresponding y axis values\n",
        "y = [0.7318,\n",
        "0.7321,\n",
        "0.7330,\n",
        "0.7345,0.7383, 0.7433, 0.7373, 0.6699, 0.6764, 0.7110, 0.7774, 0.8793, 0.9041, 0.9104, 0.9122, 0.9074, 0.8987, 0.8950, 0.8957, 0.8984, 0.9010, 0.9023, 0.9030, 0.9035, 0.9043, 0.9052, 0.9061, 0.9068, 0.9073, 0.9078, 0.9084, 0.9090, 0.9095, 0.9098, 0.9102, 0.9104, 0.9107, 0.9110, 0.9114, 0.9115, 0.9117, 0.9120, 0.9123, 0.9125, 0.9127, 0.9129, 0.9130, 0.9131, 0.9132, 0.9132, 0.9132, 0.9131, 0.9129, 0.9128, 0.9126, 0.9125, 0.9125, 0.9125, 0.9127, 0.9128]\n",
        "\n",
        "# plotting the points\n",
        "plt.plot(x, y)\n",
        "\n",
        "# naming the x axis\n",
        "plt.xlabel('x - axis')\n",
        "# naming the y axis\n",
        "plt.ylabel('y - axis')\n",
        "\n",
        "# giving a title to my graph\n",
        "\n",
        "# function to show the plot\n",
        "plt.show()"
      ],
      "metadata": {
        "colab": {
          "base_uri": "https://localhost:8080/",
          "height": 449
        },
        "id": "MKzLiqKk0ABC",
        "outputId": "9cc442d0-8950-477b-c236-16c5273dfa32"
      },
      "execution_count": null,
      "outputs": [
        {
          "output_type": "display_data",
          "data": {
            "text/plain": [
              "<Figure size 640x480 with 1 Axes>"
            ],
            "image/png": "[encoded data removed]"
          },
          "metadata": {}
        }
      ]
    },
    {
      "cell_type": "markdown",
      "source": [
        "### GAN"
      ],
      "metadata": {
        "id": "gADAVjyozDI9"
      }
    },
    {
      "cell_type": "code",
      "source": [
        "!pip install torch-geometric"
      ],
      "metadata": {
        "colab": {
          "base_uri": "https://localhost:8080/"
        },
        "id": "a68SlBNsoY83",
        "outputId": "17fc1316-030d-49ff-82d4-3c7ede67f4b0"
      },
      "execution_count": null,
      "outputs": [
        {
          "output_type": "stream",
          "name": "stdout",
          "text": [
            "Requirement already satisfied: torch-geometric in /usr/local/lib/python3.10/dist-packages (2.4.0)\n",
            "Requirement already satisfied: tqdm in /usr/local/lib/python3.10/dist-packages (from torch-geometric) (4.66.1)\n",
            "Requirement already satisfied: numpy in /usr/local/lib/python3.10/dist-packages (from torch-geometric) (1.23.5)\n",
            "Requirement already satisfied: scipy in /usr/local/lib/python3.10/dist-packages (from torch-geometric) (1.11.3)\n",
            "Requirement already satisfied: jinja2 in /usr/local/lib/python3.10/dist-packages (from torch-geometric) (3.1.2)\n",
            "Requirement already satisfied: requests in /usr/local/lib/python3.10/dist-packages (from torch-geometric) (2.31.0)\n",
            "Requirement already satisfied: pyparsing in /usr/local/lib/python3.10/dist-packages (from torch-geometric) (3.1.1)\n",
            "Requirement already satisfied: scikit-learn in /usr/local/lib/python3.10/dist-packages (from torch-geometric) (1.2.2)\n",
            "Requirement already satisfied: psutil>=5.8.0 in /usr/local/lib/python3.10/dist-packages (from torch-geometric) (5.9.5)\n",
            "Requirement already satisfied: MarkupSafe>=2.0 in /usr/local/lib/python3.10/dist-packages (from jinja2->torch-geometric) (2.1.3)\n",
            "Requirement already satisfied: charset-normalizer<4,>=2 in /usr/local/lib/python3.10/dist-packages (from requests->torch-geometric) (3.3.2)\n",
            "Requirement already satisfied: idna<4,>=2.5 in /usr/local/lib/python3.10/dist-packages (from requests->torch-geometric) (3.4)\n",
            "Requirement already satisfied: urllib3<3,>=1.21.1 in /usr/local/lib/python3.10/dist-packages (from requests->torch-geometric) (2.0.7)\n",
            "Requirement already satisfied: certifi>=2017.4.17 in /usr/local/lib/python3.10/dist-packages (from requests->torch-geometric) (2023.7.22)\n",
            "Requirement already satisfied: joblib>=1.1.1 in /usr/local/lib/python3.10/dist-packages (from scikit-learn->torch-geometric) (1.3.2)\n",
            "Requirement already satisfied: threadpoolctl>=2.0.0 in /usr/local/lib/python3.10/dist-packages (from scikit-learn->torch-geometric) (3.2.0)\n"
          ]
        }
      ]
    },
    {
      "cell_type": "code",
      "source": [
        "import torch\n",
        "import torch.nn as nn\n",
        "import torch.nn.functional as F\n",
        "import torch_geometric.nn as pyg_nn\n",
        "import torch_geometric.utils as pyg_utils\n",
        "\n",
        "class Generator(nn.Module):\n",
        "    def __init__(self, in_channels, out_channels, hidden_channels):\n",
        "        super().__init__()\n",
        "        self.lin1 = nn.Linear(in_channels, hidden_channels)\n",
        "        self.lin2 = nn.Linear(hidden_channels, hidden_channels)\n",
        "        self.lin3 = nn.Linear(hidden_channels, out_channels)\n",
        "\n",
        "    def forward(self, x):\n",
        "        x = F.relu(self.lin1(x))\n",
        "        x = F.relu(self.lin2(x))\n",
        "        x = self.lin3(x)\n",
        "        return x\n",
        "\n",
        "class Discriminator(nn.Module):\n",
        "    def __init__(self, in_channels, hidden_channels):\n",
        "        super().__init__()\n",
        "        self.lin1 = nn.Linear(in_channels, hidden_channels)\n",
        "        self.lin2 = nn.Linear(hidden_channels, hidden_channels)\n",
        "        self.lin3 = nn.Linear(hidden_channels, 1)\n",
        "\n",
        "    def forward(self, x):\n",
        "        x = F.relu(self.lin1(x))\n",
        "        x = F.relu(self.lin2(x))\n",
        "        x = self.lin3(x)\n",
        "        return x\n",
        "\n",
        "# class GNNExplainer:\n",
        "#     def __init__(self, generator, discriminator, device):\n",
        "#         self.generator = generator\n",
        "#         self.discriminator = discriminator\n",
        "#         self.device = device\n",
        "\n",
        "#     def train(self, data, epochs, batch_size, learning_rate):\n",
        "#         optimizer_G = torch.optim.Adam(self.generator.parameters(), lr=learning_rate)\n",
        "#         optimizer_D = torch.optim.Adam(self.discriminator.parameters(), lr=learning_rate)\n",
        "\n",
        "#         for epoch in range(epochs):\n",
        "#             for i in range(0, len(data), batch_size):\n",
        "#                 batch = data[i:i+batch_size]\n",
        "\n",
        "#                 # Real explanations\n",
        "#                 real_explanations = []\n",
        "#                 for graph in batch:\n",
        "#                     anomaly_node = pyg_utils.get_random_node(graph.num_nodes)\n",
        "#                     removed_edges = pyg_utils.remove_edges(graph, anomaly_node)\n",
        "#                     real_explanations.append(removed_edges)\n",
        "\n",
        "#                 # Fake explanations\n",
        "#                 fake_explanations = self.generator(batch.x.to(self.device))\n",
        "\n",
        "#                 # Train discriminator\n",
        "#                 real_discrimination = self.discriminator(real_explanations.to(self.device))\n",
        "#                 fake_discrimination = self.discriminator(fake_explanations.to(self.device))\n",
        "#                 loss_D = -torch.mean(torch.log(real_discrimination + 1e-8) + torch.log(1 - fake_discrimination + 1e-8))\n",
        "\n",
        "#                 optimizer_D.zero_grad()\n",
        "#                 loss_D.backward()\n",
        "#                 optimizer_D.step()\n",
        "\n",
        "#                 # Train generator\n",
        "#                 fake_discrimination = self.discriminator(fake_explanations.to(self.device))\n",
        "#                 loss_G = -torch.mean(torch.log(fake_discrimination + 1e-8))\n",
        "\n",
        "#                 optimizer_G.zero_grad()\n",
        "#                 loss_G.backward()\n",
        "#                 optimizer_G.step()\n",
        "\n",
        "#                 if (i + batch_size) % 100 == 0:\n",
        "#                     print(f\"Epoch {epoch}/{epochs} | Batch {i}/{len(data)} | Loss D: {loss_D.item():.4f} | Loss G: {loss_G.item():.4f}\")\n",
        "\n",
        "#     def generate_explanations(self, data):\n",
        "#         explanations = []\n",
        "#         for graph in data:\n",
        "#             explanation = self.generator(graph.x.to(self.device)).squeeze(0)\n",
        "#             explanations.append(explanation)\n",
        "\n",
        "#         return explanations\n"
      ],
      "metadata": {
        "id": "jxw53uiSz3C2"
      },
      "execution_count": null,
      "outputs": []
    },
    {
      "cell_type": "code",
      "source": [
        "import torch\n",
        "import torch.nn as nn\n",
        "import torch.nn.functional as F\n",
        "from torch_geometric.datasets import Planetoid\n",
        "import torch_geometric.nn as pyg_nn\n",
        "import torch_geometric.utils as pyg_utils\n",
        "\n",
        "# Load the Cora dataset using PyTorch Geometric\n",
        "dataset = Planetoid(root='data', name='Cora')\n",
        "data = dataset[0]\n",
        "\n",
        "\n",
        "# Extract node labels from the data object\n",
        "node_labels = data.y\n",
        "\n",
        "# Calculate label counts\n",
        "label_counts = torch.bincount(node_labels)\n",
        "\n",
        "device = torch.device('cuda' if torch.cuda.is_available() else 'cpu')\n",
        "# Determine the target class as the label with the highest frequency\n",
        "target_class = label_counts.argmax()\n",
        "def remove_edges(edge_index, anomaly_node, device):\n",
        "    anomaly_node = torch.full((edge_index.size(1),), int(anomaly_node), dtype=torch.long, device=device)\n",
        "\n",
        "    edge_index = edge_index.to(device='cpu')\n",
        "\n",
        "    mask = (edge_index[0] != anomaly_node) & (edge_index[1] != anomaly_node)\n",
        "\n",
        "    mask = mask.to(device)\n",
        "\n",
        "    # Filter out edges using the mask\n",
        "    filtered_edge_index = edge_index[:, mask]\n",
        "\n",
        "    return filtered_edge_index\n",
        "\n",
        "\n",
        "\n",
        "# Define graph construction function\n",
        "def construct_graph(edge_index, num_nodes):\n",
        "    # Create a PyTorch Geometric data object\n",
        "    graph = data.clone()\n",
        "    graph.edge_index = edge_index\n",
        "    return graph\n",
        "\n",
        "# Preprocess the data\n",
        "def preprocess_data(idx):\n",
        "    # Ensure that both the graph and node features are on the same device\n",
        "\n",
        "    # Extract edge information from the data object\n",
        "    edge_index = data.edge_index\n",
        "\n",
        "    # Create a PyTorch Geometric data object from the edge information\n",
        "    graph = construct_graph(edge_index, num_nodes=data.num_nodes)\n",
        "\n",
        "    # Label graph as normal or anomalous\n",
        "    label = 1 if data.y[idx] == target_class else 0  # Use target_class instead of data.target_class\n",
        "\n",
        "    if label == 1:\n",
        "        # Generate real explanation by removing edges\n",
        "        anomaly_node = torch.randint(graph.num_nodes, (1,))\n",
        "\n",
        "        anomaly_node = anomaly_node.to(device)  # Move anomaly_node to the CUDA device\n",
        "        removed_edges = remove_edges(graph.edge_index, anomaly_node, device)\n",
        "        real_explanations.append(removed_edges)\n",
        "\n",
        "        # Construct modified graph\n",
        "        modified_edge_index = modify_edge_information(edge_index)\n",
        "        modified_graph = construct_graph(modified_edge_index, num_nodes=data.num_nodes).to(device)\n",
        "\n",
        "        return None, modified_graph, label\n",
        "\n",
        "    return None, graph, label\n",
        "# Define a function to modify the edge information for the modified graph\n",
        "def modify_edge_information(edge_index):\n",
        "    # Implement your logic to modify the edge information here\n",
        "    # This is a placeholder, you need to customize it based on your requirements\n",
        "    modified_edge_index = edge_index.clone()\n",
        "    return modified_edge_index\n",
        "\n",
        "# Prepare data for training\n",
        "real_explanations = []\n",
        "fake_explanations = []\n",
        "\n",
        "for i in range(data.num_edges):\n",
        "    features, graph, label = preprocess_data(i)\n",
        "\n",
        "    if label == 1:\n",
        "        # Generate real explanation by removing edges\n",
        "        anomaly_node = torch.randint(graph.num_nodes, (1,)).item()\n",
        "\n",
        "        removed_edges = remove_edges(graph.edge_index, anomaly_node,device)\n",
        "        real_explanations.append(removed_edges)\n",
        "\n",
        "        # Generate fake explanation using the GAN\n",
        "        fake_explanation = generator(graph.ndata['feat'].to(device)).squeeze(0)\n",
        "        fake_explanations.append(fake_explanation)\n",
        "\n",
        "\n",
        "# Train the GAN explainer\n",
        "generator = Generator(in_channels=features.shape[0], out_channels=data.num_nodes * data.num_nodes)\n",
        "discriminator = Discriminator(in_channels=data.num_nodes * data.num_nodes, hidden_channels=128)\n",
        "# device = torch.device('cuda' if torch.cuda.is_available() else 'cpu')\n",
        "gnn_explainer = GNNExplainer(generator, discriminator, device)\n",
        "gnn_explainer.train(data=processed_data, epochs=10, batch_size=32, learning_rate=0.001)\n",
        "\n",
        "# Generate explanations for new data points\n",
        "new_features, new_graph, new_label = preprocess_data(100)  # Replace 100 with the index of the new data point\n",
        "new_explanation = gnn_explainer.generate_explanations([new_graph])[0]\n",
        "\n",
        "# Evaluate the explanation\n",
        "# ...  # Replace ... with your explanation evaluation code\n"
      ],
      "metadata": {
        "id": "zh5wH6cE0LyT"
      },
      "execution_count": null,
      "outputs": []
    },
    {
      "cell_type": "code",
      "source": [
        "from torch_geometric.datasets import Planetoid\n",
        "dataset = Planetoid(root='data', name='Cora')\n",
        "device = torch.device('cuda' if torch.cuda.is_available() else 'cpu')\n",
        "data = dataset[0]\n",
        "print(len(data))"
      ],
      "metadata": {
        "colab": {
          "base_uri": "https://localhost:8080/"
        },
        "id": "0TZmlpGZYrj0",
        "outputId": "0765fa99-cde0-4693-c512-2ebb90f5d28c"
      },
      "execution_count": null,
      "outputs": [
        {
          "output_type": "stream",
          "name": "stdout",
          "text": [
            "6\n"
          ]
        }
      ]
    },
    {
      "cell_type": "code",
      "source": [
        "class GNNExplainer:\n",
        "    def __init__(self, generator, discriminator, device):\n",
        "        self.generator = generator\n",
        "        self.discriminator = discriminator\n",
        "        self.device = device\n",
        "\n",
        "    def train(self, data, epochs, batch_size, learning_rate):\n",
        "        optimizer_G = torch.optim.Adam(self.generator.parameters(), lr=learning_rate)\n",
        "        optimizer_D = torch.optim.Adam(self.discriminator.parameters(), lr=learning_rate)\n",
        "\n",
        "        for epoch in range(1):\n",
        "            for i in range(0, 1, batch_size):\n",
        "                batch = data[i:i+batch_size]\n",
        "\n",
        "                # Real explanations\n",
        "                real_explanations = []\n",
        "                for graph in batch:\n",
        "                    anomaly_node = torch.randint(graph.num_nodes, (1,)).item()\n",
        "                    # Assuming graph has 'edge_index' attribute\n",
        "                    mask = (graph.edge_index[0] != anomaly_node) & (graph.edge_index[1] != anomaly_node)\n",
        "                    removed_edges = graph.edge_index[:, mask]\n",
        "                    real_explanations.append(removed_edges)\n",
        "\n",
        "                # Fake explanations\n",
        "                fake_explanations = self.generator(batch.x.to(self.device))\n",
        "\n",
        "                # Train discriminator\n",
        "                real_discrimination = self.discriminator(real_explanations.to(self.device))\n",
        "                fake_discrimination = self.discriminator(fake_explanations.to(self.device))\n",
        "                loss_D = -torch.mean(torch.log(real_discrimination + 1e-8) + torch.log(1 - fake_discrimination + 1e-8))\n",
        "\n",
        "                optimizer_D.zero_grad()\n",
        "                loss_D.backward()\n",
        "                optimizer_D.step()\n",
        "\n",
        "                # Train generator\n",
        "                fake_discrimination = self.discriminator(fake_explanations.to(self.device))\n",
        "                loss_G = -torch.mean(torch.log(fake_discrimination + 1e-8))\n",
        "\n",
        "                optimizer_G.zero_grad()\n",
        "                loss_G.backward()\n",
        "                optimizer_G.step()\n",
        "\n",
        "\n",
        "                print(f\"Epoch {epoch}/{epochs} | Batch {i}/{len(data)} | Loss D: {loss_D.item():.4f} | Loss G: {loss_G.item():.4f}\")\n",
        "\n",
        "    def generate_explanations(self, data):\n",
        "        explanations = []\n",
        "\n",
        "        for batch in data_loader:\n",
        "            batch = batch.to(self.device)\n",
        "\n",
        "            # Fake explanations\n",
        "            fake_explanations = self.generator(batch.x)\n",
        "\n",
        "            fake_explanations = fake_explanations.to_sparse()\n",
        "\n",
        "            # Train discriminator\n",
        "            real_discrimination = self.discriminator(batch.edge_index)\n",
        "            fake_discrimination = self.discriminator(fake_explanations.indices())\n",
        "\n",
        "            anomaly_scores = torch.sigmoid(fake_discrimination)\n",
        "\n",
        "            threshold = 0.5  # Adjust this threshold based on your needs\n",
        "            anomaly_indices = (anomaly_scores > threshold).nonzero()\n",
        "\n",
        "            # Extract explanations based on anomaly indices\n",
        "            for idx in anomaly_indices:\n",
        "                anomaly_node = fake_explanations.indices()[idx]\n",
        "                removed_edges = pyg_utils.remove_edges(batch.edge_index, anomaly_node)\n",
        "                explanations.append(removed_edges)\n",
        "\n",
        "        return explanations\n",
        "\n",
        "# Initialize generator and discriminator\n",
        "generator = Generator(in_channels=data.num_features, out_channels=data.num_nodes, hidden_channels=16)\n",
        "discriminator = Discriminator(in_channels=data.num_nodes, hidden_channels=16)\n",
        "\n",
        "# Initialize GNNExplainer\n",
        "gnn_explainer = GNNExplainer(generator, discriminator, device)\n",
        "\n",
        "# Training loop (call train method)\n",
        "gnn_explainer.train(dataset, epochs=10, batch_size=32, learning_rate=0.001)\n",
        "\n",
        "# Generate explanations for the entire dataset\n",
        "# explanations = gnn_explainer.generate_explanations(data_loader)\n",
        "\n"
      ],
      "metadata": {
        "id": "IsyCfMv5YTuk"
      },
      "execution_count": null,
      "outputs": []
    },
    {
      "cell_type": "code",
      "source": [
        "#DONT RUN\n",
        "\n",
        "# Load the Cora dataset using PyTorch Geometric\n",
        "# dataset = Planetoid(root='data', name='Cora')\n",
        "# data = dataset[0]\n",
        "\n",
        "# Extract node labels from the data object\n",
        "node_labels = data.y\n",
        "\n",
        "# Calculate label counts\n",
        "label_counts = torch.bincount(node_labels)\n",
        "\n",
        "device = torch.device('cuda' if torch.cuda.is_available() else 'cpu')\n",
        "# Determine the target class as the label with the highest frequency\n",
        "target_class = label_counts.argmax()\n",
        "\n",
        "def remove_edges(edge_index, anomaly_node, device):\n",
        "    # Ensure anomaly_node has the same shape as edge_index\n",
        "    anomaly_node = torch.full((edge_index.size(1),), int(anomaly_node), dtype=torch.long, device=device)\n",
        "\n",
        "    # Move edge_index to the CPU for element-wise comparisons\n",
        "    edge_index = edge_index.to(device)\n",
        "\n",
        "    # Create a mask to identify edges involving the anomaly node\n",
        "    mask = (edge_index[0] != anomaly_node) & (edge_index[1] != anomaly_node)\n",
        "\n",
        "    # Move the mask back to the CUDA device for subsequent operations\n",
        "    mask = mask.to(device)\n",
        "\n",
        "    # Filter out edges using the mask\n",
        "    filtered_edge_index = edge_index[:, mask]\n",
        "\n",
        "    return filtered_edge_index\n",
        "\n",
        "# Define graph construction function\n",
        "def construct_graph(edge_index, num_nodes):\n",
        "    # Create a PyTorch Geometric data object\n",
        "    graph = data.clone()\n",
        "    graph.edge_index = edge_index\n",
        "    return graph\n",
        "\n",
        "# Preprocess the data\n",
        "def preprocess_data(idx):\n",
        "    # Ensure that both the graph and node features are on the same device\n",
        "\n",
        "    # Extract edge information from the data object\n",
        "    edge_index = data.edge_index\n",
        "\n",
        "    # Create a PyTorch Geometric data object from the edge information\n",
        "    graph = construct_graph(edge_index, num_nodes=data.num_nodes)\n",
        "\n",
        "    # Label graph as normal or anomalous\n",
        "    label = 1 if data.y[idx] == target_class else 0  # Use target_class instead of data.target_class\n",
        "\n",
        "    if label == 1:\n",
        "        # Generate real explanation by removing edges\n",
        "        anomaly_node = torch.randint(graph.num_nodes, (1,))\n",
        "\n",
        "        anomaly_node = anomaly_node.to(device)  # Move anomaly_node to the CUDA device\n",
        "        removed_edges = remove_edges(graph.edge_index, anomaly_node, device)\n",
        "        real_explanations.append(removed_edges)\n",
        "\n",
        "        # Construct modified graph\n",
        "        modified_edge_index = modify_edge_information(edge_index)\n",
        "        modified_graph = construct_graph(modified_edge_index, num_nodes=data.num_nodes).to(device)\n",
        "\n",
        "        return None, modified_graph, label\n",
        "\n",
        "    return None, graph, label\n",
        "# Define a function to modify the edge information for the modified graph\n",
        "def modify_edge_information(edge_index):\n",
        "    # Implement your logic to modify the edge information here\n",
        "    # This is a placeholder, you need to customize it based on your requirements\n",
        "    modified_edge_index = edge_index.clone()\n",
        "    return modified_edge_index\n",
        "\n",
        "\n",
        "# Initialize generator and discriminator\n",
        "generator = Generator(in_channels=data.num_features, out_channels=data.num_nodes * data.num_nodes, hidden_channels=64)\n",
        "discriminator = Discriminator(in_channels=data.num_nodes * data.num_nodes,hidden_channels=128)  # Fix: Use hidden_channels instead of in_channels\n",
        "\n",
        "# Initialize GNNExplainer\n",
        "gnn_explainer = GNNExplainer(generator, discriminator, device)\n",
        "\n",
        "# Prepare data for training (replace processed_data with your actual training data)\n",
        "real_explanations = []\n",
        "fake_explanations = []\n",
        "\n",
        "for i in range(data.num_edges):\n",
        "    features, graph, label = preprocess_data(i)\n",
        "\n",
        "    if label == 1:\n",
        "        # Generate real explanation by removing edges\n",
        "        anomaly_node = torch.randint(graph.num_nodes, (1,)).item()\n",
        "\n",
        "        removed_edges = remove_edges(graph.edge_index, anomaly_node, device)\n",
        "        real_explanations.append(removed_edges)\n",
        "\n",
        "        # Generate fake explanation using the GAN\n",
        "        fake_explanation = generator(data['x'].to(device)).squeeze(0)\n",
        "        fake_explanations.append(fake_explanation)\n",
        "\n",
        "# Train the GAN explainer\n",
        "gnn_explainer.train(data=processed_data, epochs=10, batch_size=32, learning_rate=0.001)\n",
        "\n",
        "# Generate explanations for new data points\n",
        "new_features, new_graph, new_label = preprocess_data(100)  # Replace 100 with the index of the new data point\n",
        "new_explanation = gnn_explainer.generate_explanations([new_graph])[0]\n"
      ],
      "metadata": {
        "id": "5pDkH9HXYh3Q"
      },
      "execution_count": null,
      "outputs": []
    },
    {
      "cell_type": "code",
      "source": [
        "from torch.utils.data import DataLoader\n",
        "import torch_geometric"
      ],
      "metadata": {
        "id": "jcGEoxJVJdq_"
      },
      "execution_count": null,
      "outputs": []
    },
    {
      "cell_type": "code",
      "source": [
        "dataset = Planetoid(root='data', name='Cora')\n",
        "from torch_geometric.data import Data\n",
        "from torch.utils.data import DataLoader\n",
        "\n",
        "# Custom collate function\n",
        "def collate(data_list):\n",
        "    batch = Data()\n",
        "\n",
        "    # Extract necessary information from Data objects\n",
        "    batch.x = [data.x for data in data_list]\n",
        "    batch.edge_index = [data.edge_index for data in data_list]\n",
        "\n",
        "    return batch\n",
        "\n",
        "# Create DataLoader with custom collate function\n",
        "data_loader = DataLoader(dataset, batch_size=32, shuffle=True, collate_fn=collate)\n",
        "\n",
        "device = torch.device('cuda' if torch.cuda.is_available() else 'cpu')\n",
        "\n",
        "# Create instances of Generator and Discriminator\n",
        "generator = Generator(in_channels=data.num_features, out_channels=data.num_nodes * data.num_nodes, hidden_channels=64)\n",
        "discriminator = Discriminator(in_channels=data.num_nodes * data.num_nodes,hidden_channels=128)  # Fix: Use hidden_channels instead of in_channels\n",
        "\n",
        "# Create an instance of GNNExplainer\n",
        "gnn_explainer = GNNExplainer(generator, discriminator, device)\n"
      ],
      "metadata": {
        "id": "Rd46qVq7Lv2t"
      },
      "execution_count": null,
      "outputs": []
    }
  ]
}